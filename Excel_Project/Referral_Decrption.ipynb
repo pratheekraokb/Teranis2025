{
 "cells": [
  {
   "cell_type": "code",
   "execution_count": 110,
   "id": "33dafddb-3484-490e-a8e0-9461df92156e",
   "metadata": {},
   "outputs": [],
   "source": [
    "import pandas as pd\n",
    "import re\n",
    "import json"
   ]
  },
  {
   "cell_type": "code",
   "execution_count": 111,
   "id": "aba341fe-3cf4-40d5-a7a9-859e7e32bdd1",
   "metadata": {},
   "outputs": [],
   "source": [
    "class ExcelReferralFunc:\n",
    "    def clean_column_name(column_name):\n",
    "        return column_name.strip().lower()\n",
    "    \n",
    "    def get_column_values(file_path, sheet_name=None, target_column=\"Referral\"):\n",
    "        df = pd.read_excel(file_path, sheet_name=sheet_name)\n",
    "    \n",
    "        if isinstance(df, dict):\n",
    "            first_sheet_name = list(df.keys())[0]  # Get the first sheet's name\n",
    "            df = df[first_sheet_name]  # Select the first sheet\n",
    "            \n",
    "        df.columns = [clean_column_name(col) for col in df.columns]\n",
    "    \n",
    "        target_column_cleaned = clean_column_name(target_column)\n",
    "    \n",
    "        if target_column_cleaned in df.columns:\n",
    "            return df[target_column_cleaned].dropna().tolist()\n",
    "        else:\n",
    "            return []\n",
    "    \n",
    "    def get_referral_details(ref_list):\n",
    "        \"\"\"Processes referral codes and returns structured details sorted by total referrals.\"\"\"\n",
    "        referral_details = {}\n",
    "    \n",
    "        for each_ref_code in ref_list:\n",
    "            if each_ref_code not in referral_details:\n",
    "                referral_details[each_ref_code] = {\"total_times_referred\": 1}\n",
    "            else:\n",
    "                referral_details[each_ref_code][\"total_times_referred\"] += 1\n",
    "    \n",
    "        # Sorting the dictionary by total_times_referred in descending order\n",
    "        sorted_referral_details = dict(sorted(referral_details.items(), key=lambda x: x[1][\"total_times_referred\"], reverse=True))\n",
    "    \n",
    "        return sorted_referral_details\n",
    "\n",
    "    def decryptCode(code):\n",
    "        try:\n",
    "            pattern = r\"^([1-8])([A-C]?)([A-Z]+)(\\d{2})$\"\n",
    "            match = re.match(pattern, code)\n",
    "            \n",
    "            if not match:\n",
    "                raise ValueError(\"Invalid code format\")\n",
    "            \n",
    "            semester = f\"S{match.group(1)}\"\n",
    "            class_section = match.group(2) if match.group(2) else \"\"\n",
    "            department = match.group(3)\n",
    "            roll_number = match.group(4)\n",
    "            \n",
    "            valid_departments = {\"CS\", \"EC\", \"EEE\", \"ME\", \"CE\", \"IT\"}  # Add more as needed\n",
    "            if department not in valid_departments:\n",
    "                raise ValueError(\"Invalid department\")\n",
    "            \n",
    "            return {\n",
    "                \"semester\": semester,\n",
    "                \"class_section\": class_section,\n",
    "                \"department\": department,\n",
    "                \"roll_number\": roll_number\n",
    "            }\n",
    "        except Exception as e:\n",
    "            return {\"error\": str(e)}\n",
    "\n",
    "    def get_referral_details(ref_list, filename):\n",
    "        \"\"\"Processes referral codes and returns structured details sorted by total referrals (descending order).\"\"\"\n",
    "        referral_details = {}\n",
    "    \n",
    "        for each_ref_code in ref_list:\n",
    "            decrypted_data = decryptCode(each_ref_code)\n",
    "    \n",
    "            if \"error\" in decrypted_data:\n",
    "                continue  # Skip invalid codes\n",
    "    \n",
    "            if each_ref_code not in referral_details:\n",
    "                referral_details[each_ref_code] = {\n",
    "                    \"total_times_referred\": 1,\n",
    "                    \"referral_details\": decrypted_data\n",
    "                }\n",
    "            else:\n",
    "                referral_details[each_ref_code][\"total_times_referred\"] += 1\n",
    "    \n",
    "        # Sorting by 'total_times_referred' in descending order\n",
    "        sorted_referral_details = dict(sorted(referral_details.items(), key=lambda x: x[1][\"total_times_referred\"], reverse=True))\n",
    "        with open(f\"{filename}.json\", \"w\", encoding=\"utf-8\") as json_file:\n",
    "            json.dump(sorted_referral_details, json_file, indent=4)\n",
    "        return sorted_referral_details"
   ]
  },
  {
   "cell_type": "code",
   "execution_count": 105,
   "id": "a2fe8486-b843-46d3-b3b3-889dfbef1441",
   "metadata": {},
   "outputs": [],
   "source": [
    "file_path = \"Referal.xlsx\"\n",
    "values = ExcelReferralFunc.get_column_values(file_path)"
   ]
  },
  {
   "cell_type": "code",
   "execution_count": 106,
   "id": "b843c601-a348-4590-9d54-dc1a4d29c0c7",
   "metadata": {},
   "outputs": [
    {
     "name": "stdout",
     "output_type": "stream",
     "text": [
      "['1CCE14', '2BEEE24', '2CEC32', '1ACE12', '8CCE25', '1CCS26', '2BEEE24', '2CEC32', '1ACE12', '8CCE25', '1CCS26', '2BEEE24', '2CEC32', '1ACE12', '8CCE25', '1CCS266', '1CCS26', '2BEEE24', '2CEC32', '1ACE12', '8CCE25', '2BEEE24', '1CCS26', '2BEEE24', '2CEC32', '1ACE12']\n"
     ]
    }
   ],
   "source": [
    "print(values)"
   ]
  },
  {
   "cell_type": "code",
   "execution_count": 107,
   "id": "cc4f624a-a77c-473f-b924-2c9d122af5d3",
   "metadata": {},
   "outputs": [
    {
     "data": {
      "text/plain": [
       "['1CCE14',\n",
       " '2BEEE24',\n",
       " '2CEC32',\n",
       " '1ACE12',\n",
       " '8CCE25',\n",
       " '1CCS26',\n",
       " '2BEEE24',\n",
       " '2CEC32',\n",
       " '1ACE12',\n",
       " '8CCE25',\n",
       " '1CCS26',\n",
       " '2BEEE24',\n",
       " '2CEC32',\n",
       " '1ACE12',\n",
       " '8CCE25',\n",
       " '1CCS266',\n",
       " '1CCS26',\n",
       " '2BEEE24',\n",
       " '2CEC32',\n",
       " '1ACE12',\n",
       " '8CCE25',\n",
       " '2BEEE24',\n",
       " '1CCS26',\n",
       " '2BEEE24',\n",
       " '2CEC32',\n",
       " '1ACE12']"
      ]
     },
     "execution_count": 107,
     "metadata": {},
     "output_type": "execute_result"
    }
   ],
   "source": [
    "# data = get_referral_details(values)\n",
    "values\n"
   ]
  },
  {
   "cell_type": "code",
   "execution_count": 109,
   "id": "07576946-c676-4992-9e47-c0540f494178",
   "metadata": {},
   "outputs": [
    {
     "data": {
      "text/plain": [
       "{'2BEEE24': {'total_times_referred': 6,\n",
       "  'referral_details': {'semester': 'S2',\n",
       "   'class_section': 'B',\n",
       "   'department': 'EEE',\n",
       "   'roll_number': '24'}},\n",
       " '2CEC32': {'total_times_referred': 5,\n",
       "  'referral_details': {'semester': 'S2',\n",
       "   'class_section': 'C',\n",
       "   'department': 'EC',\n",
       "   'roll_number': '32'}},\n",
       " '1ACE12': {'total_times_referred': 5,\n",
       "  'referral_details': {'semester': 'S1',\n",
       "   'class_section': 'A',\n",
       "   'department': 'CE',\n",
       "   'roll_number': '12'}},\n",
       " '8CCE25': {'total_times_referred': 4,\n",
       "  'referral_details': {'semester': 'S8',\n",
       "   'class_section': 'C',\n",
       "   'department': 'CE',\n",
       "   'roll_number': '25'}},\n",
       " '1CCS26': {'total_times_referred': 4,\n",
       "  'referral_details': {'semester': 'S1',\n",
       "   'class_section': 'C',\n",
       "   'department': 'CS',\n",
       "   'roll_number': '26'}},\n",
       " '1CCE14': {'total_times_referred': 1,\n",
       "  'referral_details': {'semester': 'S1',\n",
       "   'class_section': 'C',\n",
       "   'department': 'CE',\n",
       "   'roll_number': '14'}}}"
      ]
     },
     "execution_count": 109,
     "metadata": {},
     "output_type": "execute_result"
    }
   ],
   "source": [
    "ExcelReferralFunc.get_referral_details(values, \"DemoEvent\")"
   ]
  },
  {
   "cell_type": "code",
   "execution_count": null,
   "id": "73e01968-fbed-4cf5-91c2-6c432534b14e",
   "metadata": {},
   "outputs": [],
   "source": []
  },
  {
   "cell_type": "code",
   "execution_count": null,
   "id": "6ee3eba4-09d0-4379-9fa3-29b972bfe5c8",
   "metadata": {},
   "outputs": [],
   "source": []
  }
 ],
 "metadata": {
  "kernelspec": {
   "display_name": "Python 3 (ipykernel)",
   "language": "python",
   "name": "python3"
  },
  "language_info": {
   "codemirror_mode": {
    "name": "ipython",
    "version": 3
   },
   "file_extension": ".py",
   "mimetype": "text/x-python",
   "name": "python",
   "nbconvert_exporter": "python",
   "pygments_lexer": "ipython3",
   "version": "3.12.9"
  }
 },
 "nbformat": 4,
 "nbformat_minor": 5
}
